{
 "cells": [
  {
   "cell_type": "markdown",
   "metadata": {},
   "source": [
    "## Assignment Statement"
   ]
  },
  {
   "cell_type": "markdown",
   "metadata": {},
   "source": [
    "One simple test to determine whether a random number generator is giving random values from a distribution with distribution function $F(x)$ is that of Kolmogorov and Smirnov. \n",
    "\n",
    "Using the random number generator, obtain a sample of size $n$. \n",
    "\n",
    "Order the sample with $x_r$ being the $r$th smallest observation. \n",
    "\n",
    "Define the sample distribution function $S_n$ to be $$ S_n(x) = \\begin{cases} 0 \\text{ for } x < x_{(1)} \\\\ \\frac{r}{n} \\text{ for } x_{(r)} \\leq x < x_{(r+1)} \\\\ 1 \\text{ for } x_{(n)} \\leq x \\end{cases}$$\n",
    "\n",
    "Then, for $n$ larger than $80$, it can be shown that if the $x$'s are truly coming from $F$, then, with probability $0.99$, $$ \\text{sup}_x \\vert S_n(x) - F(x) \\vert < \\dfrac{1.6276}{\\sqrt{n}}.$$"
   ]
  },
  {
   "cell_type": "markdown",
   "metadata": {},
   "source": [
    "Use the random number generator, $X_{n+1} = 7^5 X_n \\text{mod}(2^{31} -1)$, to generate a sample of size $1,000$ from the uniform distribution on the unit interval.\n",
    "\n",
    "Does your sample pass the Kolmogorov-Smirnov test?"
   ]
  },
  {
   "cell_type": "markdown",
   "metadata": {},
   "source": [
    "## Assignment Minimal Requirements"
   ]
  },
  {
   "cell_type": "markdown",
   "metadata": {},
   "source": [
    "### Imports"
   ]
  },
  {
   "cell_type": "code",
   "execution_count": 22,
   "metadata": {},
   "outputs": [],
   "source": [
    "import pandas as pd \n",
    "import numpy as np \n",
    "import matplotlib.pyplot as plt "
   ]
  },
  {
   "cell_type": "markdown",
   "metadata": {},
   "source": [
    "### Generate Data"
   ]
  },
  {
   "cell_type": "code",
   "execution_count": 226,
   "metadata": {},
   "outputs": [],
   "source": [
    "# Declare the values for the random number generator.\n",
    "increment = 0\n",
    "multiplier = 7**5\n",
    "modulus = (2**31)-1\n",
    "number_of_iterations = 1000\n",
    "\n",
    "# The seed value is not explicitly provided, so I'll start with 1.\n",
    "seed_value = 1"
   ]
  },
  {
   "cell_type": "code",
   "execution_count": 227,
   "metadata": {},
   "outputs": [],
   "source": [
    "# We create our starting lists\n",
    "values = [seed_value]\n",
    "function_values = []\n",
    "uniform_values = []"
   ]
  },
  {
   "cell_type": "code",
   "execution_count": 228,
   "metadata": {},
   "outputs": [],
   "source": [
    "# Generate the random number generated values.\n",
    "for _ in range(number_of_iterations):\n",
    "    # Calculate the next value.\n",
    "    next_value = (multiplier * values[-1] + increment) % modulus\n",
    "    \n",
    "    # Print the value.\n",
    "    # print(next_value)\n",
    "\n",
    "    # Store the value to the list.\n",
    "    values.append(next_value)"
   ]
  },
  {
   "cell_type": "code",
   "execution_count": 229,
   "metadata": {},
   "outputs": [
    {
     "data": {
      "text/plain": [
       "1"
      ]
     },
     "execution_count": 229,
     "metadata": {},
     "output_type": "execute_result"
    }
   ],
   "source": [
    "# We now have 1001 values, including our seed value.\n",
    "# We drop the seed value, which is currently the first one in the list, leaving us with the 1,000 we wanted.\n",
    "values.pop(0)"
   ]
  },
  {
   "cell_type": "code",
   "execution_count": 230,
   "metadata": {},
   "outputs": [],
   "source": [
    "# We put the values in order\n",
    "ordered_values = sorted(values)"
   ]
  },
  {
   "cell_type": "code",
   "execution_count": 231,
   "metadata": {},
   "outputs": [],
   "source": [
    "# We generate the Empirical function values\n",
    "for i in range(number_of_iterations):\n",
    "    # Calculate the next value.\n",
    "    next_value = (i+1)/number_of_iterations\n",
    "    \n",
    "    # Store the value to the list.\n",
    "    function_values.append(next_value)"
   ]
  },
  {
   "cell_type": "code",
   "execution_count": 232,
   "metadata": {},
   "outputs": [],
   "source": [
    "# I want to create an index list for the dataframe.\n",
    "index_list = np.arange(1, len(ordered_values) + 1)"
   ]
  },
  {
   "cell_type": "code",
   "execution_count": 233,
   "metadata": {},
   "outputs": [],
   "source": [
    "# We generate the Pseudo-Uniform values\n",
    "for i in range(len(ordered_values)):\n",
    "    \n",
    "    # Calculate the next value.\n",
    "    # We take each generated value and divide it by the interval of x_(1) through x_(n) to get our U(0,1) values.\n",
    "    value = ordered_values[i]/(ordered_values[len(ordered_values)-1] - ordered_values[0])\n",
    "    \n",
    "    # Store the value to the list.\n",
    "    uniform_values.append(value)"
   ]
  },
  {
   "cell_type": "code",
   "execution_count": 234,
   "metadata": {},
   "outputs": [],
   "source": [
    "# We'll need to find the absolute value of the differences for the S and F so that we can find the supremum / max of those.\n",
    "differences = [abs(s - f) for s, f in zip(function_values, uniform_values)]"
   ]
  },
  {
   "cell_type": "code",
   "execution_count": 235,
   "metadata": {},
   "outputs": [
    {
     "name": "stdout",
     "output_type": "stream",
     "text": [
      "1000\n",
      "1000\n",
      "1000\n",
      "1000\n",
      "1000\n"
     ]
    }
   ],
   "source": [
    "# Check to make sure the lists are the same length before building the dataframe.\n",
    "print(len(index_list))\n",
    "print(len(ordered_values))\n",
    "print(len(function_values))\n",
    "print(len(uniform_values))\n",
    "print(len(differences))"
   ]
  },
  {
   "cell_type": "code",
   "execution_count": 236,
   "metadata": {},
   "outputs": [],
   "source": [
    "# Create a DataFrame with the ordered values and their corresponding S_n(x) values\n",
    "df = pd.DataFrame({\n",
    "    'Index': index_list,\n",
    "    'Ordered Values': ordered_values,\n",
    "    'S': function_values,\n",
    "    'F': uniform_values,\n",
    "    'Difference': differences\n",
    "})"
   ]
  },
  {
   "cell_type": "code",
   "execution_count": 238,
   "metadata": {},
   "outputs": [
    {
     "data": {
      "text/html": [
       "<div>\n",
       "<style scoped>\n",
       "    .dataframe tbody tr th:only-of-type {\n",
       "        vertical-align: middle;\n",
       "    }\n",
       "\n",
       "    .dataframe tbody tr th {\n",
       "        vertical-align: top;\n",
       "    }\n",
       "\n",
       "    .dataframe thead th {\n",
       "        text-align: right;\n",
       "    }\n",
       "</style>\n",
       "<table border=\"1\" class=\"dataframe\">\n",
       "  <thead>\n",
       "    <tr style=\"text-align: right;\">\n",
       "      <th></th>\n",
       "      <th>Index</th>\n",
       "      <th>Ordered Values</th>\n",
       "      <th>S</th>\n",
       "      <th>F</th>\n",
       "      <th>Difference</th>\n",
       "    </tr>\n",
       "  </thead>\n",
       "  <tbody>\n",
       "    <tr>\n",
       "      <th>0</th>\n",
       "      <td>1</td>\n",
       "      <td>16807</td>\n",
       "      <td>0.001</td>\n",
       "      <td>0.000008</td>\n",
       "      <td>0.000992</td>\n",
       "    </tr>\n",
       "    <tr>\n",
       "      <th>1</th>\n",
       "      <td>2</td>\n",
       "      <td>1277844</td>\n",
       "      <td>0.002</td>\n",
       "      <td>0.000595</td>\n",
       "      <td>0.001405</td>\n",
       "    </tr>\n",
       "    <tr>\n",
       "      <th>2</th>\n",
       "      <td>3</td>\n",
       "      <td>1887638</td>\n",
       "      <td>0.003</td>\n",
       "      <td>0.000879</td>\n",
       "      <td>0.002121</td>\n",
       "    </tr>\n",
       "    <tr>\n",
       "      <th>3</th>\n",
       "      <td>4</td>\n",
       "      <td>3559274</td>\n",
       "      <td>0.004</td>\n",
       "      <td>0.001658</td>\n",
       "      <td>0.002342</td>\n",
       "    </tr>\n",
       "    <tr>\n",
       "      <th>4</th>\n",
       "      <td>5</td>\n",
       "      <td>6441594</td>\n",
       "      <td>0.005</td>\n",
       "      <td>0.003001</td>\n",
       "      <td>0.001999</td>\n",
       "    </tr>\n",
       "    <tr>\n",
       "      <th>...</th>\n",
       "      <td>...</td>\n",
       "      <td>...</td>\n",
       "      <td>...</td>\n",
       "      <td>...</td>\n",
       "      <td>...</td>\n",
       "    </tr>\n",
       "    <tr>\n",
       "      <th>995</th>\n",
       "      <td>996</td>\n",
       "      <td>2129300973</td>\n",
       "      <td>0.996</td>\n",
       "      <td>0.992079</td>\n",
       "      <td>0.003921</td>\n",
       "    </tr>\n",
       "    <tr>\n",
       "      <th>996</th>\n",
       "      <td>997</td>\n",
       "      <td>2137606534</td>\n",
       "      <td>0.997</td>\n",
       "      <td>0.995948</td>\n",
       "      <td>0.001052</td>\n",
       "    </tr>\n",
       "    <tr>\n",
       "      <th>997</th>\n",
       "      <td>998</td>\n",
       "      <td>2142326661</td>\n",
       "      <td>0.998</td>\n",
       "      <td>0.998148</td>\n",
       "      <td>0.000148</td>\n",
       "    </tr>\n",
       "    <tr>\n",
       "      <th>998</th>\n",
       "      <td>999</td>\n",
       "      <td>2145586676</td>\n",
       "      <td>0.999</td>\n",
       "      <td>0.999666</td>\n",
       "      <td>0.000666</td>\n",
       "    </tr>\n",
       "    <tr>\n",
       "      <th>999</th>\n",
       "      <td>1000</td>\n",
       "      <td>2146319451</td>\n",
       "      <td>1.000</td>\n",
       "      <td>1.000008</td>\n",
       "      <td>0.000008</td>\n",
       "    </tr>\n",
       "  </tbody>\n",
       "</table>\n",
       "<p>1000 rows × 5 columns</p>\n",
       "</div>"
      ],
      "text/plain": [
       "     Index  Ordered Values      S         F  Difference\n",
       "0        1           16807  0.001  0.000008    0.000992\n",
       "1        2         1277844  0.002  0.000595    0.001405\n",
       "2        3         1887638  0.003  0.000879    0.002121\n",
       "3        4         3559274  0.004  0.001658    0.002342\n",
       "4        5         6441594  0.005  0.003001    0.001999\n",
       "..     ...             ...    ...       ...         ...\n",
       "995    996      2129300973  0.996  0.992079    0.003921\n",
       "996    997      2137606534  0.997  0.995948    0.001052\n",
       "997    998      2142326661  0.998  0.998148    0.000148\n",
       "998    999      2145586676  0.999  0.999666    0.000666\n",
       "999   1000      2146319451  1.000  1.000008    0.000008\n",
       "\n",
       "[1000 rows x 5 columns]"
      ]
     },
     "execution_count": 238,
     "metadata": {},
     "output_type": "execute_result"
    }
   ],
   "source": [
    "df"
   ]
  },
  {
   "cell_type": "markdown",
   "metadata": {},
   "source": [
    "### As an intermediary step, I want to plot the ordered values for $S_n(x)$ and $F(x)$ and verify that they both look geometrically similar. A uniform CDF should be shaped like a right-leaning triangle."
   ]
  },
  {
   "cell_type": "markdown",
   "metadata": {},
   "source": [
    "We plot the S values."
   ]
  },
  {
   "cell_type": "code",
   "execution_count": 239,
   "metadata": {},
   "outputs": [
    {
     "data": {
      "image/png": "[encoded data removed]",
      "text/plain": [
       "<Figure size 1000x600 with 1 Axes>"
      ]
     },
     "metadata": {},
     "output_type": "display_data"
    }
   ],
   "source": [
    "# Plotting the step function for S\n",
    "plt.figure(figsize=(10, 6))\n",
    "\n",
    "# We adjust the plot limits so that we make sure we can see the whole shape.\n",
    "plt.xlim(df['Ordered Values'].iloc[0], df['Ordered Values'].iloc[-1])\n",
    "plt.ylim(0, max(df['S']) + 1)\n",
    "\n",
    "# We plot the step function with the space under S filled in.\n",
    "plt.step(df['Ordered Values'], df['S'], where='post', label='Empirical CDF $S_n(x)$')\n",
    "plt.fill_between(df['Ordered Values'], df['S'], step=\"post\", alpha=0.4)\n",
    "\n",
    "# We label the axes and the plot itself.\n",
    "plt.xlabel('Value')\n",
    "plt.ylabel('$S_n(x)$')\n",
    "plt.title('Empirical CDF $S_n(x)$')\n",
    "# plt.legend()\n",
    "plt.grid(True)\n",
    "\n",
    "# Display the plot\n",
    "plt.show()"
   ]
  },
  {
   "cell_type": "markdown",
   "metadata": {},
   "source": [
    "We plot the (ordered) F values."
   ]
  },
  {
   "cell_type": "code",
   "execution_count": 241,
   "metadata": {},
   "outputs": [],
   "source": [
    "ordered_uniform_values = sorted(uniform_values)"
   ]
  },
  {
   "cell_type": "code",
   "execution_count": 242,
   "metadata": {},
   "outputs": [
    {
     "data": {
      "image/png": "[encoded data removed]",
      "text/plain": [
       "<Figure size 1000x600 with 1 Axes>"
      ]
     },
     "metadata": {},
     "output_type": "display_data"
    }
   ],
   "source": [
    "# Plotting the step function for S\n",
    "plt.figure(figsize=(10, 6))\n",
    "\n",
    "# We adjust the plot limits so that we make sure we can see the whole shape.\n",
    "plt.xlim(ordered_uniform_values[0], ordered_uniform_values[-1])\n",
    "plt.ylim(0, max(df['F']) + 1)\n",
    "\n",
    "# We plot the step function with the space under S filled in.\n",
    "plt.step(ordered_uniform_values, df['F'], where='post', label='Empirical CDF $F(x)$')\n",
    "plt.fill_between(ordered_uniform_values, df['F'], step=\"post\", alpha=0.4)\n",
    "\n",
    "# We label the axes and the plot itself.\n",
    "plt.xlabel('Value')\n",
    "plt.ylabel('$F(x)$')\n",
    "plt.title('Empirical CDF $F(x)$')\n",
    "# plt.legend()\n",
    "plt.grid(True)\n",
    "\n",
    "# Display the plot\n",
    "plt.show()"
   ]
  },
  {
   "cell_type": "markdown",
   "metadata": {},
   "source": [
    "They do look roughy the same, though obviously with a different scale."
   ]
  },
  {
   "cell_type": "markdown",
   "metadata": {},
   "source": [
    "### Find if $\\text{sup}_x \\vert S_n(x) - F(x) \\vert < \\dfrac{1.6276}{\\sqrt{n}}$"
   ]
  },
  {
   "cell_type": "code",
   "execution_count": 243,
   "metadata": {},
   "outputs": [],
   "source": [
    "check_value = (1.6276)/number_of_iterations**(1/2)"
   ]
  },
  {
   "cell_type": "code",
   "execution_count": 246,
   "metadata": {},
   "outputs": [
    {
     "name": "stdout",
     "output_type": "stream",
     "text": [
      "0.028544896506217055\n"
     ]
    }
   ],
   "source": [
    "supremum = max(df['Difference'])\n",
    "print(supremum)"
   ]
  },
  {
   "cell_type": "code",
   "execution_count": 247,
   "metadata": {},
   "outputs": [
    {
     "name": "stdout",
     "output_type": "stream",
     "text": [
      "True\n"
     ]
    }
   ],
   "source": [
    "print(supremum < check_value)"
   ]
  },
  {
   "cell_type": "markdown",
   "metadata": {},
   "source": [
    "We get a value of 'True' from above, and therefore the Kolmogorov-Smirnov test indicates that there is no statistically significant difference between the two distributions."
   ]
  },
  {
   "cell_type": "markdown",
   "metadata": {},
   "source": [
    "# 2"
   ]
  },
  {
   "cell_type": "markdown",
   "metadata": {},
   "source": []
  }
 ],
 "metadata": {
  "kernelspec": {
   "display_name": "Python 3",
   "language": "python",
   "name": "python3"
  },
  "language_info": {
   "codemirror_mode": {
    "name": "ipython",
    "version": 3
   },
   "file_extension": ".py",
   "mimetype": "text/x-python",
   "name": "python",
   "nbconvert_exporter": "python",
   "pygments_lexer": "ipython3",
   "version": "3.10.13"
  }
 },
 "nbformat": 4,
 "nbformat_minor": 2
}
